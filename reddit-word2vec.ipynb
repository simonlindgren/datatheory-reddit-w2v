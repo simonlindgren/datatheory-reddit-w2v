{
 "cells": [
  {
   "cell_type": "markdown",
   "metadata": {},
   "source": [
    "# reddit word2vec with gensim\n",
    "\n",
    "#### Simon Lindgren 190502\n",
    "\n",
    "A straightforward word2vec model based on a data of all reddit comments during 2018.\n",
    "\n",
    "The data was downloaded from [pushshift.io](https://files.pushshift.io/reddit/submissions/).\n",
    "\n",
    "\n",
    "\n",
    "**Data preparations**: The field `body` was extracted from the downloaded json data, and split by sentence, into one big file with one sentence per line. Punctuation and leading/trailing whitespace was removed.\n",
    "\n",
    "The resulting sentences were saved in `sentences/reddit-sentences-2018`.\n",
    "\n",
    "The model was trained using the gensim package, and the code in the cell below (based on [this tutorial](https://rare-technologies.com/word2vec-tutorial/))."
   ]
  },
  {
   "cell_type": "code",
   "execution_count": null,
   "metadata": {},
   "outputs": [],
   "source": [
    "# Import libraries and set up logging\n",
    "import os\n",
    "import gensim, logging\n",
    "logging.basicConfig(format='%(asctime)s : %(levelname)s : %(message)s', level=logging.INFO)\n",
    "\n",
    "# Prepare a memory-friendly iterator that won't try to keep the entire sentence list in RAM \n",
    "class MySentences(object):\n",
    "    def __init__(self, dirname):\n",
    "        self.dirname = dirname\n",
    " \n",
    "    def __iter__(self):\n",
    "        for fname in os.listdir(self.dirname):\n",
    "            for line in open(os.path.join(self.dirname, fname)):\n",
    "                yield line.split()\n",
    " \n",
    " \n",
    "# Point it to a directory containing one or several files with one sentence per line \n",
    "sentences = MySentences('sentences')\n",
    "\n",
    "# Train the w2v model\n",
    "model = gensim.models.Word2Vec(sentences, min_count=40) # exclude words occurring less than 40 times\n",
    "\n",
    "# If you don't plan to train the model any further, calling \n",
    "# init_sims will make the model much more memory-efficient.\n",
    "model.init_sims(replace=True)\n",
    "\n",
    "# Save the model to disk\n",
    "model.save('reddit-w2v.model')"
   ]
  }
 ],
 "metadata": {
  "kernelspec": {
   "display_name": "Python 3",
   "language": "python",
   "name": "python3"
  },
  "language_info": {
   "codemirror_mode": {
    "name": "ipython",
    "version": 3
   },
   "file_extension": ".py",
   "mimetype": "text/x-python",
   "name": "python",
   "nbconvert_exporter": "python",
   "pygments_lexer": "ipython3",
   "version": "3.6.8"
  }
 },
 "nbformat": 4,
 "nbformat_minor": 2
}
